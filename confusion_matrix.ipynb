{
 "cells": [
  {
   "cell_type": "markdown",
   "id": "7ecc9949-41b6-4af1-9e5b-e88d3994e21b",
   "metadata": {},
   "source": [
    "# Imports"
   ]
  },
  {
   "cell_type": "code",
   "execution_count": 2,
   "id": "229964fd-e81d-44fc-86bb-70aeaf83bc67",
   "metadata": {},
   "outputs": [],
   "source": [
    "import requests\n",
    "import json\n",
    "import os\n",
    "import numpy as np\n",
    "from sklearn.metrics import multilabel_confusion_matrix, ConfusionMatrixDisplay\n",
    "import pandas as pd\n",
    "import matplotlib.pyplot as plt\n",
    "import seaborn as sns"
   ]
  },
  {
   "cell_type": "markdown",
   "id": "9896a063-f637-4e3b-a707-3dacfa91138a",
   "metadata": {},
   "source": [
    "# create labels data for annotated images"
   ]
  },
  {
   "cell_type": "code",
   "execution_count": 3,
   "id": "bdd963f5-8e3a-4908-b063-1f1cf0e41f0e",
   "metadata": {},
   "outputs": [],
   "source": [
    "JSON_PATH = r'C:\\Users\\drkab\\Documents\\data_scraper\\data\\friends_annotated_1'\n",
    "LBL = r'C:\\Users\\drkab\\Documents\\data_scraper\\data\\friends\\labels'\n",
    "from pathlib import Path\n",
    "os.chdir(JSON_PATH)"
   ]
  },
  {
   "cell_type": "code",
   "execution_count": 4,
   "id": "84f5cb68-57a9-4a4d-b7fe-c5d5052ef77d",
   "metadata": {},
   "outputs": [
    {
     "name": "stdout",
     "output_type": "stream",
     "text": [
      "writing done.\n"
     ]
    }
   ],
   "source": [
    "d = {}\n",
    "for filename in os.listdir(JSON_PATH):\n",
    "    if filename.endswith('.json'):\n",
    "        f = open(filename,)\n",
    "        data = json.load(f)\n",
    "        img_w = data['asset']['size']['width']\n",
    "        img_h =data['asset']['size']['height']\n",
    "        imgfile = data['asset']['name']\n",
    "        c_id = []\n",
    "        top =[]\n",
    "        right =[]\n",
    "        bottom =[]\n",
    "        left =[]\n",
    "        for obj in data['regions']:\n",
    "            lbl = obj['tags'][0]\n",
    "            l = obj['boundingBox']['left']\n",
    "            t = obj['boundingBox']['top']\n",
    "            w = obj['boundingBox']['width']\n",
    "            h = obj['boundingBox']['height']\n",
    "            \n",
    "            if lbl in ['chandler', 'joey', 'phoebe', 'monika', 'rachel', 'ross']:\n",
    "                c_id.append(lbl)\n",
    "                #c_id.append(['gloves', 'faceshield'].index(lbl))\n",
    "                right.append(l + w)\n",
    "                bottom.append(t + h)\n",
    "                top.append(t)\n",
    "                left.append(l)\n",
    "                \n",
    "        text = \"\"\n",
    "        for i in range(len(c_id)):\n",
    "            text = text+str(c_id[i])+' '+str(top[i])+' '+str(right[i])+' '+str(bottom[i])+' '+str(left[i])+'\\n'\n",
    "\n",
    "#         if text:\n",
    "            fname = imgfile\n",
    "            truth = {\n",
    "                'bbox': [top[i], right[i], bottom[i], left[i]],\n",
    "                'lbl': c_id[i]\n",
    "            }\n",
    "            if fname in d:\n",
    "                d[fname].append(truth)\n",
    "            else:\n",
    "                d[fname] = [truth]\n",
    "#             if Path(LBL+'\\\\'+imgfile+\".txt\").is_file():\n",
    "#                 print(imgfile)\n",
    "#                 with open(LBL+'\\\\'+imgfile+\".txt\", \"a\") as f:\n",
    "#                     f.write(text)\n",
    "#             else:\n",
    "#                 with open(LBL+'\\\\'+imgfile+\".txt\", \"w\") as f:\n",
    "#                     f.write(text)\n",
    "\n",
    "\n",
    "print(\"writing done.\")\n",
    "# print(d)"
   ]
  },
  {
   "cell_type": "code",
   "execution_count": 5,
   "id": "90f2e77b-5168-46c3-b39b-caa0d1951f55",
   "metadata": {},
   "outputs": [
    {
     "data": {
      "text/plain": [
       "[{'bbox': [151.64008884803923,\n",
       "   113.19779462439698,\n",
       "   245.245481004902,\n",
       "   35.14817367332874],\n",
       "  'lbl': 'rachel'},\n",
       " {'bbox': [153.19155943627453,\n",
       "   241.90213645761546,\n",
       "   258.17440257352945,\n",
       "   159.20055134390077],\n",
       "  'lbl': 'joey'},\n",
       " {'bbox': [144.39989276960785,\n",
       "   485.87181254307376,\n",
       "   259.72587316176475,\n",
       "   401.1026878015162],\n",
       "  'lbl': 'chandler'},\n",
       " {'bbox': [153.19155943627453,\n",
       "   608.3735354927637,\n",
       "   250.93420649509807,\n",
       "   525.1550654720883],\n",
       "  'lbl': 'phoebe'},\n",
       " {'bbox': [152.67440257352942,\n",
       "   356.65058580289457,\n",
       "   250.41704963235296,\n",
       "   286.8711233631978],\n",
       "  'lbl': 'monika'},\n",
       " {'bbox': [153.19155943627453,\n",
       "   739.145416953825,\n",
       "   268.0003829656863,\n",
       "   661.0957960027567],\n",
       "  'lbl': 'ross'}]"
      ]
     },
     "execution_count": 5,
     "metadata": {},
     "output_type": "execute_result"
    }
   ],
   "source": [
    "d['friends_10.jpg']"
   ]
  },
  {
   "cell_type": "markdown",
   "id": "d0a46f84-89b2-4756-b25d-762bcd879400",
   "metadata": {},
   "source": [
    "# Predicted results"
   ]
  },
  {
   "cell_type": "code",
   "execution_count": 6,
   "id": "54c807ea-7869-49c5-8fb3-63e55cb2d6bc",
   "metadata": {},
   "outputs": [
    {
     "data": {
      "text/plain": [
       "200"
      ]
     },
     "execution_count": 6,
     "metadata": {},
     "output_type": "execute_result"
    }
   ],
   "source": [
    "r = requests.get('http://127.0.0.1:8000/admin/compile_predictions')\n",
    "r.status_code"
   ]
  },
  {
   "cell_type": "code",
   "execution_count": 7,
   "id": "3f96d016-029c-45a9-a706-87d5a8d86e4c",
   "metadata": {},
   "outputs": [],
   "source": [
    "data = r.text\n",
    "parse_json = json.loads(data)"
   ]
  },
  {
   "cell_type": "code",
   "execution_count": 8,
   "id": "e753d8b9-b636-489d-a64c-d37a260b359b",
   "metadata": {},
   "outputs": [],
   "source": [
    "lbl_pred = []\n",
    "fname_pred = []\n",
    "for k,faces in parse_json.items():\n",
    "    t = []\n",
    "    fname_pred.append(k)\n",
    "    for f in faces:\n",
    "#         print(f['lbl'])\n",
    "        if f['pred_indv_id'] > 0:\n",
    "            t.append(f['pred_indv_id'])\n",
    "    lbl_pred.append(t)"
   ]
  },
  {
   "cell_type": "code",
   "execution_count": 9,
   "id": "f3403a31-f2d7-4e9b-a6af-9fc4d416b261",
   "metadata": {},
   "outputs": [
    {
     "data": {
      "text/plain": [
       "array([[0, 0, 0, 0, 0, 0],\n",
       "       [1, 1, 1, 1, 0, 1],\n",
       "       [0, 0, 0, 0, 0, 0],\n",
       "       ...,\n",
       "       [0, 0, 0, 0, 0, 0],\n",
       "       [0, 1, 0, 0, 1, 1],\n",
       "       [1, 1, 1, 1, 1, 1]])"
      ]
     },
     "execution_count": 9,
     "metadata": {},
     "output_type": "execute_result"
    }
   ],
   "source": [
    "from sklearn.preprocessing import MultiLabelBinarizer\n",
    "mlb_pred = MultiLabelBinarizer()\n",
    "y_pred = mlb_pred.fit_transform(lbl_pred)\n",
    "y_pred"
   ]
  },
  {
   "cell_type": "code",
   "execution_count": 10,
   "id": "3c8d976e-bc72-4b60-9a03-bf87864460b3",
   "metadata": {},
   "outputs": [
    {
     "data": {
      "text/plain": [
       "array([1, 2, 3, 4, 5, 6])"
      ]
     },
     "execution_count": 10,
     "metadata": {},
     "output_type": "execute_result"
    }
   ],
   "source": [
    "mlb_pred.classes_"
   ]
  },
  {
   "cell_type": "markdown",
   "id": "aa8e05aa-61cd-4f4c-91e6-60ffa49b9a7e",
   "metadata": {},
   "source": [
    "# Ground truth"
   ]
  },
  {
   "cell_type": "code",
   "execution_count": 11,
   "id": "94261283-7954-4b39-89c0-c5dd7683c876",
   "metadata": {},
   "outputs": [],
   "source": [
    "lbl_truth = []\n",
    "fname_truth = []\n",
    "for file in fname_pred:\n",
    "    t = []\n",
    "    fname_truth.append(file)\n",
    "    if file in d:\n",
    "        for f in d[file]:\n",
    "            t.append(f['lbl'])\n",
    "    lbl_truth.append(t)"
   ]
  },
  {
   "cell_type": "code",
   "execution_count": 12,
   "id": "545a364a-d2ce-4d32-a2b6-7a58571ed6a6",
   "metadata": {},
   "outputs": [
    {
     "data": {
      "text/plain": [
       "array([[1, 1, 1, 1, 0, 1],\n",
       "       [1, 1, 1, 1, 1, 1],\n",
       "       [0, 0, 0, 0, 0, 0],\n",
       "       ...,\n",
       "       [0, 0, 1, 0, 1, 0],\n",
       "       [1, 1, 1, 1, 1, 1],\n",
       "       [1, 1, 1, 1, 1, 1]])"
      ]
     },
     "execution_count": 12,
     "metadata": {},
     "output_type": "execute_result"
    }
   ],
   "source": [
    "from sklearn.preprocessing import MultiLabelBinarizer\n",
    "mlb = MultiLabelBinarizer()\n",
    "y_true = mlb.fit_transform(lbl_truth)\n",
    "y_true"
   ]
  },
  {
   "cell_type": "code",
   "execution_count": 13,
   "id": "f0c14ad4-ea5a-4e8c-a7b7-92c7746c910f",
   "metadata": {},
   "outputs": [
    {
     "data": {
      "text/plain": [
       "array(['chandler', 'joey', 'monika', 'phoebe', 'rachel', 'ross'],\n",
       "      dtype=object)"
      ]
     },
     "execution_count": 13,
     "metadata": {},
     "output_type": "execute_result"
    }
   ],
   "source": [
    "mlb.classes_"
   ]
  },
  {
   "cell_type": "markdown",
   "id": "63263db2-85c4-42d1-8140-f3a14ced8771",
   "metadata": {},
   "source": [
    "# Confusion matrix"
   ]
  },
  {
   "cell_type": "markdown",
   "id": "d6b5b21f-3a2b-4c2b-843a-7e8aaa969dbb",
   "metadata": {},
   "source": [
    "The one-hot vector of ground truth and predictions are like image classification labels for each image."
   ]
  },
  {
   "cell_type": "code",
   "execution_count": 14,
   "id": "0bdf9458-2088-41fa-84e1-db0aa29be37c",
   "metadata": {},
   "outputs": [],
   "source": [
    "labels = ['chandler', 'joey', 'monika', 'phoebe', 'rachel', 'ross']\n",
    "cm = multilabel_confusion_matrix(y_true, y_pred)"
   ]
  },
  {
   "cell_type": "code",
   "execution_count": 15,
   "id": "3dd6b3fc-c679-49da-b9ea-05abddd44e7e",
   "metadata": {},
   "outputs": [],
   "source": [
    "def print_confusion_matrix(confusion_matrix, axes, class_label, class_names, fontsize=14):\n",
    "\n",
    "    df_cm = pd.DataFrame(\n",
    "        confusion_matrix, index=class_names, columns=class_names,\n",
    "    )\n",
    "\n",
    "    try:\n",
    "        heatmap = sns.heatmap(df_cm, annot=True, fmt=\"d\", cbar=False, ax=axes)\n",
    "    except ValueError:\n",
    "        raise ValueError(\"Confusion matrix values must be integers.\")\n",
    "    heatmap.yaxis.set_ticklabels(heatmap.yaxis.get_ticklabels(), rotation=0, ha='right', fontsize=fontsize)\n",
    "    heatmap.xaxis.set_ticklabels(heatmap.xaxis.get_ticklabels(), rotation=45, ha='right', fontsize=fontsize)\n",
    "    axes.set_ylabel('True label')\n",
    "    axes.set_xlabel('Predicted label')\n",
    "    axes.set_title(\"Confusion Matrix for the class - \" + class_label)"
   ]
  },
  {
   "cell_type": "code",
   "execution_count": 16,
   "id": "3ec8060c-7b18-47f1-a930-a8b08c24190d",
   "metadata": {},
   "outputs": [
    {
     "data": {
      "image/png": "[encoded data removed]",
      "text/plain": [
       "<Figure size 864x504 with 6 Axes>"
      ]
     },
     "metadata": {
      "needs_background": "light"
     },
     "output_type": "display_data"
    }
   ],
   "source": [
    "fig, ax = plt.subplots(2, 3, figsize=(12, 7))\n",
    "    \n",
    "for axes, cfs_matrix, label in zip(ax.flatten(), cm, labels):\n",
    "    print_confusion_matrix(cfs_matrix, axes, label, [\"N\", \"Y\"])\n",
    "\n",
    "fig.tight_layout()\n",
    "plt.show()"
   ]
  },
  {
   "cell_type": "code",
   "execution_count": 18,
   "id": "c3bc54e7-d0ba-490f-8adb-c7d203763351",
   "metadata": {},
   "outputs": [
    {
     "name": "stdout",
     "output_type": "stream",
     "text": [
      "classes:  ['chandler', 'joey', 'monika', 'phoebe', 'rachel', 'ross']\n",
      "recall:  [0.55704698 0.7218543  0.63576159 0.71223022 0.68831169 0.74305556]\n",
      "specificity:  [1.         0.93859649 0.96491228 0.98412698 0.96396396 0.96694215]\n",
      "FPR:  [0.         0.06140351 0.03508772 0.01587302 0.03603604 0.03305785]\n",
      "FNR:  [0.44295302 0.2781457  0.36423841 0.28776978 0.31168831 0.25694444]\n",
      "precision:  [1.         0.93965517 0.96       0.98019802 0.96363636 0.96396396]\n"
     ]
    }
   ],
   "source": [
    "print('classes: ', labels)\n",
    "tn = cm[:, 0, 0]\n",
    "tp = cm[:, 1, 1]\n",
    "fn = cm[:, 1, 0]\n",
    "fp = cm[:, 0, 1]\n",
    "recall = tp / (tp + fn)\n",
    "print('recall: ',recall)\n",
    "specificity = tn / (tn + fp)\n",
    "print('specificity: ',specificity)\n",
    "FPR = fp / (fp + tn)\n",
    "print('FPR: ',FPR)\n",
    "FNR = fn / (fn + tp)\n",
    "print('FNR: ',FNR)\n",
    "precision = tp/ (tp + fp)\n",
    "print('precision: ',precision)"
   ]
  },
  {
   "cell_type": "markdown",
   "id": "dc267c42-d2f7-4e0a-827a-c9e4b667a568",
   "metadata": {},
   "source": [
    "# Confusion matrix for Face Recognition using IOU"
   ]
  },
  {
   "cell_type": "code",
   "execution_count": 19,
   "id": "3b38e864-113b-42b9-8e40-1c7374d29d5f",
   "metadata": {},
   "outputs": [],
   "source": [
    "# predicted labels including unknown faces\n",
    "lbl_pred = []\n",
    "fname_pred = []\n",
    "for k,faces in parse_json.items():\n",
    "    t = []\n",
    "    fname_pred.append(k)\n",
    "    for f in faces:\n",
    "#         print(f['lbl'])\n",
    "#         if f['pred_indv_id'] > 0:\n",
    "        t.append(f['pred_indv_id'])\n",
    "    lbl_pred.append(t)"
   ]
  },
  {
   "cell_type": "code",
   "execution_count": 20,
   "id": "4023d4dc-2ae3-42ff-8cff-2e6555cf567b",
   "metadata": {},
   "outputs": [],
   "source": [
    "# ground truth\n",
    "bbox_truth = []\n",
    "# fname_truth = []\n",
    "lbl_map = {'chandler':1, 'joey':2, 'monika':3, 'phoebe':4, 'rachel':5, 'ross':6}\n",
    "lbl_truth = []\n",
    "for file in fname_pred:\n",
    "    b = []\n",
    "    l = []\n",
    "    if file in d:\n",
    "        for f in d[file]:\n",
    "            l.append(lbl_map[f['lbl']])\n",
    "            b.append(f['bbox'])\n",
    "    bbox_truth.append(b)    \n",
    "    lbl_truth.append(l)"
   ]
  },
  {
   "cell_type": "code",
   "execution_count": 21,
   "id": "4bd20ed1-f522-4b87-9e47-71e4e5d30427",
   "metadata": {},
   "outputs": [],
   "source": [
    "# predicted\n",
    "bbox_pred = []\n",
    "for k,faces in parse_json.items():\n",
    "    b = []\n",
    "    for f in faces:\n",
    "#         print(f['lbl'])\n",
    "#         if f['pred_indv_id'] > 0:\n",
    "        b.append(f['bbox'])\n",
    "    bbox_pred.append(b)"
   ]
  },
  {
   "cell_type": "code",
   "execution_count": null,
   "id": "f2a0393a-1887-42da-8646-325f99530940",
   "metadata": {},
   "outputs": [],
   "source": [
    "# top, right, bottom, left\n",
    "# x1 0 = left 3\n",
    "# y1 1= top 0\n",
    "# w1 2= right - left 1 - 3\n",
    "# h1 3= top - bottom 0-2"
   ]
  },
  {
   "cell_type": "code",
   "execution_count": 22,
   "id": "d4b2e6d7-0a6d-4dab-99fe-23b93a6b208d",
   "metadata": {},
   "outputs": [],
   "source": [
    "def intersection_over_union(gt_box, pred_box):\n",
    "    inter_box_top_left = [max(gt_box[3], pred_box[3]), max(gt_box[0], pred_box[0])]\n",
    "#     inter_box_top_left = [max(gt_box[0], pred_box[0]), max(gt_box[1], pred_box[1])]\n",
    "    inter_box_bottom_right = [min(gt_box[3]+(gt_box[1]-gt_box[3]), pred_box[3]+(pred_box[1]-pred_box[3])), \n",
    "                              min(gt_box[0]+(gt_box[0]-gt_box[2]), pred_box[0]+(pred_box[0]-pred_box[2]))]\n",
    "#     inter_box_bottom_right = [min(gt_box[0]+gt_box[2], pred_box[0]+pred_box[2]), min(gt_box[1]+gt_box[3], pred_box[1]+pred_box[3])]\n",
    "\n",
    "    inter_box_w = inter_box_bottom_right[0] - inter_box_top_left[0]\n",
    "    inter_box_h = inter_box_bottom_right[1] - inter_box_top_left[1]\n",
    "\n",
    "    intersection = inter_box_w * inter_box_h\n",
    "    union = (gt_box[1]-gt_box[3]) * (gt_box[0]-gt_box[2]) + (pred_box[1]-pred_box[3]) * (pred_box[0]-pred_box[2]) - intersection\n",
    "#     union = gt_box[2] * gt_box[3] + pred_box[2] * pred_box[3] - intersection\n",
    "    \n",
    "    iou = intersection / union\n",
    "\n",
    "    return iou"
   ]
  },
  {
   "cell_type": "code",
   "execution_count": 23,
   "id": "c494f410-03da-4c9e-b1ef-5022e8da956c",
   "metadata": {},
   "outputs": [
    {
     "data": {
      "text/plain": [
       "[[118.17153033088236, 103.7077877325982, 187.16050091911765, 50.1171605789111],\n",
       " [133.0612362132353, 281.8470020675396, 196.5906479779412, 228.2563749138525],\n",
       " [121.14947150735294,\n",
       "  374.63818056512747,\n",
       "  185.67153033088238,\n",
       "  321.54376292212265],\n",
       " [132.56491268382354,\n",
       "  541.3645761543763,\n",
       "  192.62005974264707,\n",
       "  507.62232942798073],\n",
       " [94.84432444852942, 647.553411440386, 160.85535386029414, 606.368022053756]]"
      ]
     },
     "execution_count": 23,
     "metadata": {},
     "output_type": "execute_result"
    }
   ],
   "source": [
    "bbox_truth[0]"
   ]
  },
  {
   "cell_type": "code",
   "execution_count": 24,
   "id": "296a65d1-54e4-4f5a-b7ef-ee45be6723db",
   "metadata": {},
   "outputs": [
    {
     "data": {
      "text/plain": [
       "array([[  0.,  37.,  10.,  21.,  15.,  19.,   2.,   0.],\n",
       "       [  0.,  87.,   0.,   1.,   3.,   1.,   2.,   0.],\n",
       "       [  0.,   5., 113.,   3.,   0.,   2.,   0.,   0.],\n",
       "       [  0.,   4.,   3.,  99.,   5.,   0.,   3.,   0.],\n",
       "       [  0.,   6.,   6.,   7., 105.,   1.,   4.,   0.],\n",
       "       [  0.,   0.,   1.,   4.,   2., 112.,   1.,   0.],\n",
       "       [  0.,   1.,   2.,   2.,  10.,   1., 113.,   0.],\n",
       "       [  0., 167., 133., 132.,  95., 132., 121.,   0.]])"
      ]
     },
     "execution_count": 24,
     "metadata": {},
     "output_type": "execute_result"
    }
   ],
   "source": [
    "# tp, fp, tn, fn\n",
    "labels = ['unknown', 'chandler', 'joey', 'monika', 'phoebe', 'rachel', 'ross', 'undetected']\n",
    "results = np.zeros((8, 8))\n",
    "for i,fname in enumerate(fname_pred):\n",
    "    res = np.zeros((8, 8))\n",
    "    for j,plist in  enumerate(bbox_pred[i]):\n",
    "        for k,tlist in enumerate(bbox_truth[i]):\n",
    "            iou = intersection_over_union(plist,tlist)\n",
    "            t_lbl = lbl_truth[i][k]\n",
    "            if iou > 0.50:\n",
    "                p_lbl = lbl_pred[i][j]\n",
    "                res[p_lbl][t_lbl] += 1\n",
    "            else:\n",
    "                res[7][t_lbl] += 1\n",
    "#     print(res)\n",
    "    sub_extra =len(bbox_pred[i])-1\n",
    "#     print(sub_extra)\n",
    "    for l in range(8):\n",
    "        res[7][l] = res[7][l]-sub_extra if res[7][l] > 0 else 0\n",
    "#     print(res)\n",
    "    results = results + res\n",
    "results"
   ]
  },
  {
   "cell_type": "code",
   "execution_count": 35,
   "id": "e54f222f-f1df-46e9-a21b-11da59dd6cf4",
   "metadata": {},
   "outputs": [
    {
     "data": {
      "image/png": "[encoded data removed]",
      "text/plain": [
       "<Figure size 360x288 with 1 Axes>"
      ]
     },
     "metadata": {
      "needs_background": "light"
     },
     "output_type": "display_data"
    }
   ],
   "source": [
    "#Plotting the confusion matrix\n",
    "plt.figure(figsize=(5,4))\n",
    "labels = ['unknown', 'chandler', 'joey', 'monika', 'phoebe', 'rachel', 'ross']\n",
    "df_cm = pd.DataFrame(\n",
    "        results[:7,:7], index=labels, columns=labels,\n",
    "    )\n",
    "\n",
    "heatmap = sns.heatmap(df_cm, annot=True, fmt=\".3g\",cbar=False)\n",
    "heatmap.yaxis.set_ticklabels(heatmap.yaxis.get_ticklabels(), rotation=0, ha='right', fontsize=12)\n",
    "heatmap.xaxis.set_ticklabels(heatmap.xaxis.get_ticklabels(), rotation=45, ha='right', fontsize=12)\n",
    "plt.title('Confusion Matrix')\n",
    "plt.ylabel('Predicted Label')\n",
    "plt.xlabel('Actual Label')\n",
    "plt.show()"
   ]
  },
  {
   "cell_type": "code",
   "execution_count": null,
   "id": "94e56c06-7d0f-4c30-b1ee-55669c1f8af1",
   "metadata": {},
   "outputs": [],
   "source": []
  }
 ],
 "metadata": {
  "kernelspec": {
   "display_name": "Python 3",
   "language": "python",
   "name": "python3"
  },
  "language_info": {
   "codemirror_mode": {
    "name": "ipython",
    "version": 3
   },
   "file_extension": ".py",
   "mimetype": "text/x-python",
   "name": "python",
   "nbconvert_exporter": "python",
   "pygments_lexer": "ipython3",
   "version": "3.8.10"
  }
 },
 "nbformat": 4,
 "nbformat_minor": 5
}
