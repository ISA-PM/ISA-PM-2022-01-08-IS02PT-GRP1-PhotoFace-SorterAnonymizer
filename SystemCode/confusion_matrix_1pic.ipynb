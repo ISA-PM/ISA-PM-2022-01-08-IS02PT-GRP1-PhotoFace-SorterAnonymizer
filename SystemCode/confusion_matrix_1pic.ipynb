{
 "cells": [
  {
   "cell_type": "markdown",
   "id": "7ecc9949-41b6-4af1-9e5b-e88d3994e21b",
   "metadata": {},
   "source": [
    "# Imports"
   ]
  },
  {
   "cell_type": "code",
   "execution_count": 1,
   "id": "229964fd-e81d-44fc-86bb-70aeaf83bc67",
   "metadata": {},
   "outputs": [],
   "source": [
    "import requests\n",
    "import json\n",
    "import os\n",
    "import numpy as np\n",
    "from sklearn.metrics import multilabel_confusion_matrix, ConfusionMatrixDisplay\n",
    "import pandas as pd\n",
    "import matplotlib.pyplot as plt\n",
    "import seaborn as sns"
   ]
  },
  {
   "cell_type": "markdown",
   "id": "9896a063-f637-4e3b-a707-3dacfa91138a",
   "metadata": {},
   "source": [
    "# create labels data for annotated images"
   ]
  },
  {
   "cell_type": "code",
   "execution_count": 2,
   "id": "bdd963f5-8e3a-4908-b063-1f1cf0e41f0e",
   "metadata": {},
   "outputs": [],
   "source": [
    "JSON_PATH = '/Users/sindhuja/Documents/sindhu/kids/annotations'\n",
    "LBL = '/Users/sindhuja/Documents/sindhu/kids/labels'\n",
    "from pathlib import Path\n",
    "os.chdir(JSON_PATH)"
   ]
  },
  {
   "cell_type": "code",
   "execution_count": 3,
   "id": "84f5cb68-57a9-4a4d-b7fe-c5d5052ef77d",
   "metadata": {},
   "outputs": [
    {
     "name": "stdout",
     "output_type": "stream",
     "text": [
      "writing done.\n"
     ]
    }
   ],
   "source": [
    "d = {}\n",
    "for filename in os.listdir(JSON_PATH):\n",
    "    if filename.endswith('.json'):\n",
    "        f = open(filename,)\n",
    "        data = json.load(f)\n",
    "        img_w = data['asset']['size']['width']\n",
    "        img_h =data['asset']['size']['height']\n",
    "        imgfile = data['asset']['name']\n",
    "        c_id = []\n",
    "        top =[]\n",
    "        right =[]\n",
    "        bottom =[]\n",
    "        left =[]\n",
    "        for obj in data['regions']:\n",
    "            lbl = obj['tags'][0]\n",
    "            l = obj['boundingBox']['left']\n",
    "            t = obj['boundingBox']['top']\n",
    "            w = obj['boundingBox']['width']\n",
    "            h = obj['boundingBox']['height']\n",
    "            \n",
    "            if lbl in ['A', 'B', 'C', 'D', 'E', 'F', 'G', 'H', 'I', 'J']:\n",
    "                c_id.append(lbl)\n",
    "                #c_id.append(['gloves', 'faceshield'].index(lbl))\n",
    "                right.append(l + w)\n",
    "                bottom.append(t + h)\n",
    "                top.append(t)\n",
    "                left.append(l)\n",
    "                \n",
    "        text = \"\"\n",
    "        arr = []\n",
    "        for i in range(len(c_id)):\n",
    "            text = text+str(c_id[i])+' '+str(top[i])+' '+str(right[i])+' '+str(bottom[i])+' '+str(left[i])+'\\n'\n",
    "\n",
    "#         if text:\n",
    "            fname = imgfile\n",
    "            truth = {\n",
    "                'bbox': [top[i], right[i], bottom[i], left[i]],\n",
    "                'lbl': c_id[i]\n",
    "            }\n",
    "            arr.append(truth)\n",
    "        \n",
    "        d[imgfile] = arr\n",
    "#             if fname in d:\n",
    "#                 d[fname].append(truth)\n",
    "#             else:\n",
    "#                 d[fname] = [truth]\n",
    "#             if Path(LBL+'\\\\'+imgfile+\".txt\").is_file():\n",
    "#                 print(imgfile)\n",
    "#                 with open(LBL+'\\\\'+imgfile+\".txt\", \"a\") as f:\n",
    "#                     f.write(text)\n",
    "#             else:\n",
    "#                 with open(LBL+'\\\\'+imgfile+\".txt\", \"w\") as f:\n",
    "#                     f.write(text)\n",
    "\n",
    "\n",
    "print(\"writing done.\")\n",
    "# print(d)"
   ]
  },
  {
   "cell_type": "code",
   "execution_count": 4,
   "id": "90f2e77b-5168-46c3-b39b-caa0d1951f55",
   "metadata": {},
   "outputs": [
    {
     "data": {
      "text/plain": [
       "[{'bbox': [360.5240174672489,\n",
       "   409.40868140868145,\n",
       "   507.2489082969432,\n",
       "   297.02866502866505],\n",
       "  'lbl': 'A'},\n",
       " {'bbox': [256.5589519650655,\n",
       "   1001.5004095004095,\n",
       "   319.4410480349345,\n",
       "   948.6650286650287],\n",
       "  'lbl': 'D'},\n",
       " {'bbox': [239.7903930131004,\n",
       "   798.5454545454546,\n",
       "   305.1877729257642,\n",
       "   750.7420147420148],\n",
       "  'lbl': 'G'}]"
      ]
     },
     "execution_count": 4,
     "metadata": {},
     "output_type": "execute_result"
    }
   ],
   "source": [
    "d['20190103_091243.jpg']"
   ]
  },
  {
   "cell_type": "markdown",
   "id": "d0a46f84-89b2-4756-b25d-762bcd879400",
   "metadata": {},
   "source": [
    "# Predicted results"
   ]
  },
  {
   "cell_type": "code",
   "execution_count": 5,
   "id": "54c807ea-7869-49c5-8fb3-63e55cb2d6bc",
   "metadata": {},
   "outputs": [
    {
     "data": {
      "text/plain": [
       "200"
      ]
     },
     "execution_count": 5,
     "metadata": {},
     "output_type": "execute_result"
    }
   ],
   "source": [
    "r = requests.get('http://127.0.0.1:8000/admin/compile_predictions')\n",
    "r.status_code"
   ]
  },
  {
   "cell_type": "code",
   "execution_count": 6,
   "id": "3f96d016-029c-45a9-a706-87d5a8d86e4c",
   "metadata": {},
   "outputs": [],
   "source": [
    "data = r.text\n",
    "parse_json = json.loads(data)"
   ]
  },
  {
   "cell_type": "code",
   "execution_count": 7,
   "id": "e753d8b9-b636-489d-a64c-d37a260b359b",
   "metadata": {},
   "outputs": [],
   "source": [
    "lbl_pred = []\n",
    "fname_pred = []\n",
    "for k,faces in parse_json.items():\n",
    "    t = []\n",
    "    fname_pred.append(k)\n",
    "    for f in faces:\n",
    "#         print(f['lbl'])\n",
    "        if f['pred_indv_id'] > 0:\n",
    "            t.append(f['pred_indv_id'])\n",
    "    lbl_pred.append(t)"
   ]
  },
  {
   "cell_type": "code",
   "execution_count": 8,
   "id": "f3403a31-f2d7-4e9b-a6af-9fc4d416b261",
   "metadata": {},
   "outputs": [
    {
     "data": {
      "text/plain": [
       "array([[0, 0, 0, ..., 0, 0, 1],\n",
       "       [0, 0, 0, ..., 1, 0, 0],\n",
       "       [0, 1, 0, ..., 0, 0, 0],\n",
       "       ...,\n",
       "       [0, 0, 0, ..., 0, 1, 0],\n",
       "       [0, 0, 0, ..., 0, 0, 0],\n",
       "       [1, 0, 1, ..., 0, 0, 1]])"
      ]
     },
     "execution_count": 8,
     "metadata": {},
     "output_type": "execute_result"
    }
   ],
   "source": [
    "from sklearn.preprocessing import MultiLabelBinarizer\n",
    "mlb_pred = MultiLabelBinarizer()\n",
    "y_pred = mlb_pred.fit_transform(lbl_pred)\n",
    "y_pred"
   ]
  },
  {
   "cell_type": "code",
   "execution_count": 9,
   "id": "3c8d976e-bc72-4b60-9a03-bf87864460b3",
   "metadata": {},
   "outputs": [
    {
     "data": {
      "text/plain": [
       "array([ 1,  2,  3,  4,  5,  6,  7,  8,  9, 10])"
      ]
     },
     "execution_count": 9,
     "metadata": {},
     "output_type": "execute_result"
    }
   ],
   "source": [
    "mlb_pred.classes_"
   ]
  },
  {
   "cell_type": "markdown",
   "id": "aa8e05aa-61cd-4f4c-91e6-60ffa49b9a7e",
   "metadata": {},
   "source": [
    "# Ground truth"
   ]
  },
  {
   "cell_type": "code",
   "execution_count": 10,
   "id": "94261283-7954-4b39-89c0-c5dd7683c876",
   "metadata": {},
   "outputs": [],
   "source": [
    "lbl_truth = []\n",
    "fname_truth = []\n",
    "for file in fname_pred:\n",
    "    t = []\n",
    "    fname_truth.append(file)\n",
    "    if file in d:\n",
    "        for f in d[file]:\n",
    "            t.append(f['lbl'])\n",
    "    lbl_truth.append(t)"
   ]
  },
  {
   "cell_type": "code",
   "execution_count": 11,
   "id": "545a364a-d2ce-4d32-a2b6-7a58571ed6a6",
   "metadata": {},
   "outputs": [
    {
     "data": {
      "text/plain": [
       "array([[1, 0, 0, ..., 0, 0, 0],\n",
       "       [1, 1, 0, ..., 0, 0, 1],\n",
       "       [1, 1, 0, ..., 0, 0, 1],\n",
       "       ...,\n",
       "       [0, 1, 1, ..., 1, 1, 0],\n",
       "       [0, 0, 0, ..., 0, 0, 0],\n",
       "       [1, 1, 0, ..., 1, 0, 0]])"
      ]
     },
     "execution_count": 11,
     "metadata": {},
     "output_type": "execute_result"
    }
   ],
   "source": [
    "from sklearn.preprocessing import MultiLabelBinarizer\n",
    "mlb = MultiLabelBinarizer()\n",
    "y_true = mlb.fit_transform(lbl_truth)\n",
    "y_true"
   ]
  },
  {
   "cell_type": "code",
   "execution_count": 12,
   "id": "f0c14ad4-ea5a-4e8c-a7b7-92c7746c910f",
   "metadata": {},
   "outputs": [
    {
     "data": {
      "text/plain": [
       "array(['A', 'B', 'C', 'D', 'E', 'F', 'G', 'H', 'I', 'J'], dtype=object)"
      ]
     },
     "execution_count": 12,
     "metadata": {},
     "output_type": "execute_result"
    }
   ],
   "source": [
    "mlb.classes_"
   ]
  },
  {
   "cell_type": "markdown",
   "id": "63263db2-85c4-42d1-8140-f3a14ced8771",
   "metadata": {},
   "source": [
    "# Confusion matrix"
   ]
  },
  {
   "cell_type": "markdown",
   "id": "d6b5b21f-3a2b-4c2b-843a-7e8aaa969dbb",
   "metadata": {},
   "source": [
    "The one-hot vector of ground truth and predictions are like image classification labels for each image."
   ]
  },
  {
   "cell_type": "code",
   "execution_count": 13,
   "id": "0bdf9458-2088-41fa-84e1-db0aa29be37c",
   "metadata": {},
   "outputs": [],
   "source": [
    "labels = ['A', 'B', 'C', 'D', 'E', 'F', 'G', 'H', 'I', 'J']\n",
    "cm = multilabel_confusion_matrix(y_true, y_pred)\n",
    "# cm"
   ]
  },
  {
   "cell_type": "code",
   "execution_count": 14,
   "id": "3dd6b3fc-c679-49da-b9ea-05abddd44e7e",
   "metadata": {},
   "outputs": [],
   "source": [
    "def print_confusion_matrix(confusion_matrix, axes, class_label, class_names, fontsize=14):\n",
    "\n",
    "    df_cm = pd.DataFrame(\n",
    "        confusion_matrix, index=class_names, columns=class_names,\n",
    "    )\n",
    "\n",
    "    try:\n",
    "        heatmap = sns.heatmap(df_cm, annot=True, fmt=\"d\", cbar=False, ax=axes)\n",
    "    except ValueError:\n",
    "        raise ValueError(\"Confusion matrix values must be integers.\")\n",
    "    heatmap.yaxis.set_ticklabels(heatmap.yaxis.get_ticklabels(), rotation=0, ha='right', fontsize=fontsize)\n",
    "    heatmap.xaxis.set_ticklabels(heatmap.xaxis.get_ticklabels(), rotation=45, ha='right', fontsize=fontsize)\n",
    "    axes.set_ylabel('True label')\n",
    "    axes.set_xlabel('Predicted label')\n",
    "    axes.set_title(\"Confusion Matrix for the class - \" + class_label)"
   ]
  },
  {
   "cell_type": "code",
   "execution_count": 15,
   "id": "3ec8060c-7b18-47f1-a930-a8b08c24190d",
   "metadata": {},
   "outputs": [
    {
     "data": {
      "image/png": "[encoded data removed]",
      "text/plain": [
       "<Figure size 1200x1200 with 10 Axes>"
      ]
     },
     "metadata": {},
     "output_type": "display_data"
    }
   ],
   "source": [
    "fig, ax = plt.subplots(5, 2, figsize=(12, 12))\n",
    "    \n",
    "for axes, cfs_matrix, label in zip(ax.flatten(), cm, labels):\n",
    "    print_confusion_matrix(cfs_matrix, axes, label, [\"N\", \"Y\"])\n",
    "\n",
    "fig.tight_layout()\n",
    "plt.show()"
   ]
  },
  {
   "cell_type": "code",
   "execution_count": 1,
   "id": "c3bc54e7-d0ba-490f-8adb-c7d203763351",
   "metadata": {},
   "outputs": [
    {
     "ename": "NameError",
     "evalue": "name 'labels' is not defined",
     "output_type": "error",
     "traceback": [
      "\u001b[0;31m---------------------------------------------------------------------------\u001b[0m",
      "\u001b[0;31mNameError\u001b[0m                                 Traceback (most recent call last)",
      "\u001b[0;32m<ipython-input-1-e474252cc299>\u001b[0m in \u001b[0;36m<module>\u001b[0;34m\u001b[0m\n\u001b[0;32m----> 1\u001b[0;31m \u001b[0mprint\u001b[0m\u001b[0;34m(\u001b[0m\u001b[0;34m'classes: '\u001b[0m\u001b[0;34m,\u001b[0m \u001b[0mlabels\u001b[0m\u001b[0;34m)\u001b[0m\u001b[0;34m\u001b[0m\u001b[0;34m\u001b[0m\u001b[0m\n\u001b[0m\u001b[1;32m      2\u001b[0m \u001b[0mtn\u001b[0m \u001b[0;34m=\u001b[0m \u001b[0mcm\u001b[0m\u001b[0;34m[\u001b[0m\u001b[0;34m:\u001b[0m\u001b[0;34m,\u001b[0m \u001b[0;36m0\u001b[0m\u001b[0;34m,\u001b[0m \u001b[0;36m0\u001b[0m\u001b[0;34m]\u001b[0m\u001b[0;34m\u001b[0m\u001b[0;34m\u001b[0m\u001b[0m\n\u001b[1;32m      3\u001b[0m \u001b[0mtp\u001b[0m \u001b[0;34m=\u001b[0m \u001b[0mcm\u001b[0m\u001b[0;34m[\u001b[0m\u001b[0;34m:\u001b[0m\u001b[0;34m,\u001b[0m \u001b[0;36m1\u001b[0m\u001b[0;34m,\u001b[0m \u001b[0;36m1\u001b[0m\u001b[0;34m]\u001b[0m\u001b[0;34m\u001b[0m\u001b[0;34m\u001b[0m\u001b[0m\n\u001b[1;32m      4\u001b[0m \u001b[0mfn\u001b[0m \u001b[0;34m=\u001b[0m \u001b[0mcm\u001b[0m\u001b[0;34m[\u001b[0m\u001b[0;34m:\u001b[0m\u001b[0;34m,\u001b[0m \u001b[0;36m1\u001b[0m\u001b[0;34m,\u001b[0m \u001b[0;36m0\u001b[0m\u001b[0;34m]\u001b[0m\u001b[0;34m\u001b[0m\u001b[0;34m\u001b[0m\u001b[0m\n\u001b[1;32m      5\u001b[0m \u001b[0mfp\u001b[0m \u001b[0;34m=\u001b[0m \u001b[0mcm\u001b[0m\u001b[0;34m[\u001b[0m\u001b[0;34m:\u001b[0m\u001b[0;34m,\u001b[0m \u001b[0;36m0\u001b[0m\u001b[0;34m,\u001b[0m \u001b[0;36m1\u001b[0m\u001b[0;34m]\u001b[0m\u001b[0;34m\u001b[0m\u001b[0;34m\u001b[0m\u001b[0m\n",
      "\u001b[0;31mNameError\u001b[0m: name 'labels' is not defined"
     ]
    }
   ],
   "source": [
    "print('classes: ', labels)\n",
    "tn = cm[:, 0, 0]\n",
    "tp = cm[:, 1, 1]\n",
    "fn = cm[:, 1, 0]\n",
    "fp = cm[:, 0, 1]\n",
    "recall = tp / (tp + fn)\n",
    "print('recall: ',recall)\n",
    "specificity = tn / (tn + fp)\n",
    "print('specificity: ',specificity)\n",
    "FPR = fp / (fp + tn)\n",
    "print('FPR: ',FPR)\n",
    "FNR = fn / (fn + tp)\n",
    "print('FNR: ',FNR)\n",
    "precision = tp/ (tp + fp)\n",
    "print('precision: ',precision)"
   ]
  },
  {
   "cell_type": "code",
   "execution_count": 21,
   "id": "5170c3ed",
   "metadata": {},
   "outputs": [
    {
     "name": "stdout",
     "output_type": "stream",
     "text": [
      "              precision    recall  f1-score   support\n",
      "\n",
      "           A       0.62      0.26      0.37       127\n",
      "           B       0.94      0.41      0.57       111\n",
      "           C       0.77      0.55      0.64        86\n",
      "           D       0.59      0.65      0.62        66\n",
      "           E       0.53      0.38      0.44        69\n",
      "           F       0.55      0.54      0.54        69\n",
      "           G       0.64      0.59      0.62        81\n",
      "           H       0.56      0.44      0.49        71\n",
      "           I       0.78      0.61      0.68        46\n",
      "           J       0.46      0.74      0.56        69\n",
      "\n",
      "   micro avg       0.62      0.49      0.55       795\n",
      "   macro avg       0.64      0.52      0.55       795\n",
      "weighted avg       0.66      0.49      0.54       795\n",
      " samples avg       0.44      0.37      0.38       795\n",
      "\n"
     ]
    },
    {
     "name": "stderr",
     "output_type": "stream",
     "text": [
      "/Users/sindhuja/Applications/anaconda3/envs/facemask/lib/python3.7/site-packages/sklearn/metrics/_classification.py:1318: UndefinedMetricWarning: Precision and F-score are ill-defined and being set to 0.0 in samples with no predicted labels. Use `zero_division` parameter to control this behavior.\n",
      "  _warn_prf(average, modifier, msg_start, len(result))\n",
      "/Users/sindhuja/Applications/anaconda3/envs/facemask/lib/python3.7/site-packages/sklearn/metrics/_classification.py:1318: UndefinedMetricWarning: Recall and F-score are ill-defined and being set to 0.0 in samples with no true labels. Use `zero_division` parameter to control this behavior.\n",
      "  _warn_prf(average, modifier, msg_start, len(result))\n"
     ]
    }
   ],
   "source": [
    "from sklearn.metrics import classification_report\n",
    "report = classification_report(y_true, y_pred,target_names=labels)\n",
    "print(report)"
   ]
  },
  {
   "cell_type": "code",
   "execution_count": 110,
   "id": "130945a8",
   "metadata": {},
   "outputs": [
    {
     "data": {
      "text/plain": [
       "'              precision    recall  f1-score   support\\n\\n           A       0.62      0.26      0.37       127\\n           B       0.94      0.41      0.57       111\\n           C       0.77      0.55      0.64        86\\n           D       0.59      0.65      0.62        66\\n           E       0.53      0.38      0.44        69\\n           F       0.55      0.54      0.54        69\\n           G       0.64      0.59      0.62        81\\n           H       0.56      0.44      0.49        71\\n           I       0.78      0.61      0.68        46\\n           J       0.46      0.74      0.56        69\\n\\n   micro avg       0.62      0.49      0.55       795\\n   macro avg       0.64      0.52      0.55       795\\nweighted avg       0.66      0.49      0.54       795\\n samples avg       0.44      0.37      0.38       795\\n'"
      ]
     },
     "execution_count": 110,
     "metadata": {},
     "output_type": "execute_result"
    }
   ],
   "source": [
    "report"
   ]
  },
  {
   "cell_type": "markdown",
   "id": "dc267c42-d2f7-4e0a-827a-c9e4b667a568",
   "metadata": {},
   "source": [
    "# Confusion matrix for Face Recognition using IOU"
   ]
  },
  {
   "cell_type": "code",
   "execution_count": 22,
   "id": "3b38e864-113b-42b9-8e40-1c7374d29d5f",
   "metadata": {},
   "outputs": [],
   "source": [
    "# predicted labels including unknown faces\n",
    "lbl_pred = []\n",
    "fname_pred = []\n",
    "for k,faces in parse_json.items():\n",
    "    t = []\n",
    "    fname_pred.append(k)\n",
    "    for f in faces:\n",
    "#         print(f['lbl'])\n",
    "#         if f['pred_indv_id'] > 0:\n",
    "        t.append(f['pred_indv_id'])\n",
    "    lbl_pred.append(t)"
   ]
  },
  {
   "cell_type": "code",
   "execution_count": 23,
   "id": "4023d4dc-2ae3-42ff-8cff-2e6555cf567b",
   "metadata": {},
   "outputs": [],
   "source": [
    "# ground truth\n",
    "bbox_truth = []\n",
    "# fname_truth = []\n",
    "lbl_map = {'A':1, 'B':2, 'C':3, 'D':4, 'E':5, 'F':6, 'G':7, 'H':8, 'I':9, 'J':10}\n",
    "lbl_truth = []\n",
    "for file in fname_pred:\n",
    "    b = []\n",
    "    l = []\n",
    "    if file in d:\n",
    "        for f in d[file]:\n",
    "            l.append(lbl_map[f['lbl']])\n",
    "            b.append(f['bbox'])\n",
    "    bbox_truth.append(b)    \n",
    "    lbl_truth.append(l)"
   ]
  },
  {
   "cell_type": "code",
   "execution_count": 24,
   "id": "4bd20ed1-f522-4b87-9e47-71e4e5d30427",
   "metadata": {},
   "outputs": [],
   "source": [
    "# predicted\n",
    "bbox_pred = []\n",
    "for k,faces in parse_json.items():\n",
    "    b = []\n",
    "    for f in faces:\n",
    "#         print(f['lbl'])\n",
    "#         if f['pred_indv_id'] > 0:\n",
    "        b.append(f['bbox'])\n",
    "    bbox_pred.append(b)"
   ]
  },
  {
   "cell_type": "code",
   "execution_count": 25,
   "id": "f2a0393a-1887-42da-8646-325f99530940",
   "metadata": {},
   "outputs": [],
   "source": [
    "# top, right, bottom, left\n",
    "# x1 0 = left 3\n",
    "# y1 1= top 0\n",
    "# w1 2= right - left 1 - 3\n",
    "# h1 3= top - bottom 0-2"
   ]
  },
  {
   "cell_type": "code",
   "execution_count": 26,
   "id": "d4b2e6d7-0a6d-4dab-99fe-23b93a6b208d",
   "metadata": {},
   "outputs": [],
   "source": [
    "def intersection_over_union(gt_box, pred_box):\n",
    "    inter_box_top_left = [max(gt_box[3], pred_box[3]), max(gt_box[0], pred_box[0])]\n",
    "#     inter_box_top_left = [max(gt_box[0], pred_box[0]), max(gt_box[1], pred_box[1])]\n",
    "    inter_box_bottom_right = [min(gt_box[3]+(gt_box[1]-gt_box[3]), pred_box[3]+(pred_box[1]-pred_box[3])), \n",
    "                              min(gt_box[0]+(gt_box[0]-gt_box[2]), pred_box[0]+(pred_box[0]-pred_box[2]))]\n",
    "#     inter_box_bottom_right = [min(gt_box[0]+gt_box[2], pred_box[0]+pred_box[2]), min(gt_box[1]+gt_box[3], pred_box[1]+pred_box[3])]\n",
    "\n",
    "    inter_box_w = inter_box_bottom_right[0] - inter_box_top_left[0]\n",
    "    inter_box_h = inter_box_bottom_right[1] - inter_box_top_left[1]\n",
    "\n",
    "    intersection = inter_box_w * inter_box_h\n",
    "    union = (gt_box[1]-gt_box[3]) * (gt_box[0]-gt_box[2]) + (pred_box[1]-pred_box[3]) * (pred_box[0]-pred_box[2]) - intersection\n",
    "#     union = gt_box[2] * gt_box[3] + pred_box[2] * pred_box[3] - intersection\n",
    "    \n",
    "    iou = intersection / union\n",
    "\n",
    "    return iou"
   ]
  },
  {
   "cell_type": "code",
   "execution_count": 27,
   "id": "c494f410-03da-4c9e-b1ef-5022e8da956c",
   "metadata": {},
   "outputs": [
    {
     "data": {
      "text/plain": [
       "[[360.5240174672489,\n",
       "  409.40868140868145,\n",
       "  507.2489082969432,\n",
       "  297.02866502866505],\n",
       " [256.5589519650655, 1001.5004095004095, 319.4410480349345, 948.6650286650287],\n",
       " [239.7903930131004, 798.5454545454546, 305.1877729257642, 750.7420147420148]]"
      ]
     },
     "execution_count": 27,
     "metadata": {},
     "output_type": "execute_result"
    }
   ],
   "source": [
    "bbox_truth[0]"
   ]
  },
  {
   "cell_type": "code",
   "execution_count": 77,
   "id": "296a65d1-54e4-4f5a-b7ef-ee45be6723db",
   "metadata": {},
   "outputs": [
    {
     "data": {
      "text/plain": [
       "array([[  0.,   0.,   0.,   0.,   0.,   0.,   0.,   0.,   0.,   0.,   0.,\n",
       "          0.],\n",
       "       [ 26.,  17.,   0.,   6.,   0.,   4.,   1.,   6.,   3.,   0.,  25.,\n",
       "         39.],\n",
       "       [ 28.,   0.,  40.,   0.,  11.,   2.,   3.,   3.,   0.,   0.,   5.,\n",
       "         19.],\n",
       "       [ 18.,   0.,   2.,  41.,   0.,   1.,   1.,   0.,   1.,   0.,   8.,\n",
       "         14.],\n",
       "       [ 12.,   1.,   0.,   3.,  34.,   1.,   3.,   0.,   7.,   0.,   2.,\n",
       "         17.],\n",
       "       [ 14.,   0.,   1.,   2.,   0.,  18.,   2.,   3.,   4.,   1.,   4.,\n",
       "         21.],\n",
       "       [ 16.,   1.,   0.,   1.,   1.,   0.,  31.,   0.,   1.,   0.,   3.,\n",
       "         15.],\n",
       "       [ 15.,   0.,   2.,   1.,   0.,   1.,   0.,  40.,   2.,   1.,   1.,\n",
       "         18.],\n",
       "       [ 12.,   1.,   0.,   0.,   0.,   2.,   0.,   0.,  29.,   1.,  12.,\n",
       "        447.],\n",
       "       [ 13.,   0.,   0.,   0.,   1.,   1.,   0.,   0.,   1.,  27.,   0.,\n",
       "        335.],\n",
       "       [ 12.,   0.,   0.,   0.,   0.,   0.,   0.,   0.,   1.,   2.,  49.,\n",
       "        457.],\n",
       "       [  0.,   0.,   0.,   0.,   0.,   0.,   0.,   0.,   0.,   0.,   0.,\n",
       "          0.]])"
      ]
     },
     "execution_count": 77,
     "metadata": {},
     "output_type": "execute_result"
    }
   ],
   "source": [
    "# tp, fp, tn, fn\n",
    "labels = ['unknown','A', 'B', 'C', 'D', 'E', 'F', 'G', 'H', 'I', 'J','undetected']\n",
    "results = np.zeros((12, 12))\n",
    "for i,fname in enumerate(fname_pred):\n",
    "    res = np.zeros((12, 12))\n",
    "    for j,plist in  enumerate(bbox_pred[i]):\n",
    "        for k,tlist in enumerate(bbox_truth[i]):\n",
    "            iou = intersection_over_union(plist,tlist)\n",
    "            t_lbl = lbl_truth[i][k]\n",
    "            if iou > 0.50:\n",
    "                p_lbl = lbl_pred[i][j]\n",
    "                res[t_lbl][p_lbl] += 1\n",
    "#                 res[p_lbl][t_lbl] += 1\n",
    "            else:\n",
    "                res[t_lbl][11] += 1\n",
    "#                 res[11][t_lbl] += 1\n",
    "#     print(res)\n",
    "    sub_extra =len(bbox_pred[i])-1\n",
    "#     print(sub_extra)\n",
    "    for l in range(8):\n",
    "        res[l][11] = res[l][11]-sub_extra if res[l][11] > 0 else 0\n",
    "#         res[11][l] = res[11][l]-sub_extra if res[11][l] > 0 else 0\n",
    "#     print(res)\n",
    "    results = results + res\n",
    "results"
   ]
  },
  {
   "cell_type": "code",
   "execution_count": 60,
   "id": "6aefef45",
   "metadata": {},
   "outputs": [
    {
     "data": {
      "image/png": "[encoded data removed]",
      "text/plain": [
       "<Figure size 500x400 with 1 Axes>"
      ]
     },
     "metadata": {},
     "output_type": "display_data"
    }
   ],
   "source": [
    "#Plotting the confusion matrix\n",
    "plt.figure(figsize=(5,4))\n",
    "labels = ['unknown','A', 'B', 'C', 'D', 'E', 'F', 'G', 'H', 'I', 'J']\n",
    "df_cm = pd.DataFrame(\n",
    "        results[:11,:11], index=labels, columns=labels,\n",
    "    )\n",
    "\n",
    "heatmap = sns.heatmap(df_cm, annot=True, fmt=\".3g\",cbar=False)\n",
    "heatmap.yaxis.set_ticklabels(heatmap.yaxis.get_ticklabels(), rotation=0, ha='right', fontsize=12)\n",
    "heatmap.xaxis.set_ticklabels(heatmap.xaxis.get_ticklabels(), rotation=45, ha='right', fontsize=12)\n",
    "plt.title('Confusion Matrix')\n",
    "plt.xlabel('Predicted Label')\n",
    "plt.ylabel('Actual Label')\n",
    "plt.show()"
   ]
  },
  {
   "cell_type": "markdown",
   "id": "51e0e2b3-b756-4a0a-bb8f-f7c8c4c838f3",
   "metadata": {},
   "source": [
    "## Chandler"
   ]
  },
  {
   "cell_type": "code",
   "execution_count": null,
   "id": "1e49e9a1",
   "metadata": {},
   "outputs": [],
   "source": [
    "# precision recall f1-score support\n",
    "# Precision (macro avg) = (Precision of A + Precision of B + Precision of C) / 3\n",
    "# micro avg (precision) = sum(Tp) / (sum(TP) + sum(FP))\n",
    "# "
   ]
  },
  {
   "cell_type": "code",
   "execution_count": 100,
   "id": "9493b5c6-f10b-43bb-9bbb-7fbf19222e6e",
   "metadata": {},
   "outputs": [],
   "source": [
    "labels = ['unknown','A', 'B', 'C', 'D', 'E', 'F', 'G', 'H', 'I', 'J']\n",
    "cf = results[:11,:11]\n",
    "cf_res = []\n",
    "precision = []\n",
    "recall = []\n",
    "f1_score = []\n",
    "support = []\n",
    "for i,count_lst in enumerate(cf):\n",
    "    if i == 0:\n",
    "        continue\n",
    "    tp = count_lst[i]\n",
    "    fn = sum(count_lst) - tp\n",
    "    fp = sum(cf[:,i]) - tp\n",
    "    tn = np.sum(cf)-np.sum(cf[:,i])-np.sum(cf[i,:])+tp\n",
    "#     print('i = ', i)\n",
    "#     print(tp, fn, fp, tn)\n",
    "    cf_res.append([tp, fn, fp, tn])\n",
    "    p = tp / (tp + fp)\n",
    "    r = tp / (tp + fn)\n",
    "    f1 = 2*p*r / (p+r)\n",
    "    s = sum(cf[:,i])\n",
    "    precision.append(p)\n",
    "    recall.append(r)\n",
    "    f1_score.append(f1)\n",
    "    support.append(s)\n",
    "# print(cf_res)\n"
   ]
  },
  {
   "cell_type": "code",
   "execution_count": 81,
   "id": "25c47bbf",
   "metadata": {},
   "outputs": [
    {
     "data": {
      "text/plain": [
       "[[17.0, 71.0, 3.0, 554.0],\n",
       " [40.0, 52.0, 5.0, 548.0],\n",
       " [41.0, 31.0, 13.0, 560.0],\n",
       " [34.0, 29.0, 13.0, 569.0],\n",
       " [18.0, 31.0, 12.0, 584.0],\n",
       " [31.0, 23.0, 10.0, 581.0],\n",
       " [40.0, 23.0, 12.0, 570.0],\n",
       " [29.0, 28.0, 20.0, 568.0],\n",
       " [27.0, 16.0, 5.0, 597.0],\n",
       " [49.0, 15.0, 60.0, 521.0]]"
      ]
     },
     "execution_count": 81,
     "metadata": {},
     "output_type": "execute_result"
    }
   ],
   "source": [
    "cf_res"
   ]
  },
  {
   "cell_type": "code",
   "execution_count": 101,
   "id": "62a46252",
   "metadata": {},
   "outputs": [],
   "source": [
    "wt_avg_pres = np.dot(precision, support)/np.sum(support)\n",
    "wt_avg_recall = np.dot(recall, support)/np.sum(support)\n",
    "wt_avg_f1score = np.dot(f1_score, support)/np.sum(support)\n"
   ]
  },
  {
   "cell_type": "code",
   "execution_count": 118,
   "id": "1de8b490",
   "metadata": {},
   "outputs": [
    {
     "data": {
      "text/plain": [
       "479.0"
      ]
     },
     "execution_count": 118,
     "metadata": {},
     "output_type": "execute_result"
    }
   ],
   "source": [
    "sum(support)"
   ]
  },
  {
   "cell_type": "code",
   "execution_count": 120,
   "id": "f15f9363",
   "metadata": {},
   "outputs": [],
   "source": [
    "# Micro F1\n",
    "total_tp = sum(np.array(cf_res)[:,0])\n",
    "total_fn = sum(np.array(cf_res)[:,1])\n",
    "total_fp = sum(np.array(cf_res)[:,2])\n",
    "total_tn = sum(np.array(cf_res)[:,3])\n",
    "total_precision = total_tp / (total_tp + total_fp) # micro avg precision\n",
    "total_recall = total_tp / (total_tp + total_fn) # micro avg recall\n",
    "micro_f1 = 2*total_precision*total_recall / (total_precision+total_recall)\n",
    "total_support = sum(support)"
   ]
  },
  {
   "cell_type": "code",
   "execution_count": 103,
   "id": "b6935dff",
   "metadata": {},
   "outputs": [],
   "source": [
    "macro_f1 = sum(f1_score)/10\n",
    "macro_avg_precision = sum(precision)/10\n",
    "macro_avg_recall = sum(recall)/10\n"
   ]
  },
  {
   "cell_type": "code",
   "execution_count": 104,
   "id": "2901be28",
   "metadata": {},
   "outputs": [
    {
     "data": {
      "text/plain": [
       "0.9268217054263566"
      ]
     },
     "execution_count": 104,
     "metadata": {},
     "output_type": "execute_result"
    }
   ],
   "source": [
    "acc = (total_tp + total_tn) / (total_tp + total_tn + total_fp + total_fn)\n",
    "acc"
   ]
  },
  {
   "cell_type": "markdown",
   "id": "9141964f",
   "metadata": {},
   "source": [
    "## classification report"
   ]
  },
  {
   "cell_type": "code",
   "execution_count": 111,
   "id": "ff0eb724",
   "metadata": {},
   "outputs": [
    {
     "data": {
      "text/plain": [
       "'              precision    recall  f1-score   support\\n\\n           A       0.62      0.26      0.37       127\\n           B       0.94      0.41      0.57       111\\n           C       0.77      0.55      0.64        86\\n           D       0.59      0.65      0.62        66\\n           E       0.53      0.38      0.44        69\\n           F       0.55      0.54      0.54        69\\n           G       0.64      0.59      0.62        81\\n           H       0.56      0.44      0.49        71\\n           I       0.78      0.61      0.68        46\\n           J       0.46      0.74      0.56        69\\n\\n   micro avg       0.62      0.49      0.55       795\\n   macro avg       0.64      0.52      0.55       795\\nweighted avg       0.66      0.49      0.54       795\\n samples avg       0.44      0.37      0.38       795\\n'"
      ]
     },
     "execution_count": 111,
     "metadata": {},
     "output_type": "execute_result"
    }
   ],
   "source": [
    "# '{:.2f}'.format(number)\n",
    "'              precision    recall  f1-score   support\\n\\n           A       0.62      0.26      0.37       127\\n           B       0.94      0.41      0.57       111\\n           C       0.77      0.55      0.64        86\\n           D       0.59      0.65      0.62        66\\n           E       0.53      0.38      0.44        69\\n           F       0.55      0.54      0.54        69\\n           G       0.64      0.59      0.62        81\\n           H       0.56      0.44      0.49        71\\n           I       0.78      0.61      0.68        46\\n           J       0.46      0.74      0.56        69\\n\\n   micro avg       0.62      0.49      0.55       795\\n   macro avg       0.64      0.52      0.55       795\\nweighted avg       0.66      0.49      0.54       795\\n samples avg       0.44      0.37      0.38       795\\n'\n"
   ]
  },
  {
   "cell_type": "code",
   "execution_count": 129,
   "id": "3a8f92e8",
   "metadata": {},
   "outputs": [
    {
     "name": "stdout",
     "output_type": "stream",
     "text": [
      "\n",
      "CLASSIFICATION REPORT\n",
      "\n",
      "              precision\trecall\tf1-score\tsupport\n",
      "\n",
      "           A\t0.85\t0.19\t0.31\t\t20.0\n",
      "           B\t0.89\t0.43\t0.58\t\t45.0\n",
      "           C\t0.76\t0.57\t0.65\t\t54.0\n",
      "           D\t0.72\t0.54\t0.62\t\t47.0\n",
      "           E\t0.60\t0.37\t0.46\t\t30.0\n",
      "           F\t0.76\t0.57\t0.65\t\t41.0\n",
      "           G\t0.77\t0.63\t0.70\t\t52.0\n",
      "           H\t0.59\t0.51\t0.55\t\t49.0\n",
      "           I\t0.84\t0.63\t0.72\t\t32.0\n",
      "           J\t0.45\t0.77\t0.57\t\t109.0\n",
      "\n",
      "\n",
      "    accuracy\t\t\t0.93\t\t479\n",
      "   micro avg\t0.68\t0.51\t0.58\t\t479\n",
      "   macro avg\t0.72\t0.52\t0.58\t\t479\n",
      "weighted avg\t0.68\t0.58\t0.59\t\t479\n",
      "\n"
     ]
    }
   ],
   "source": [
    "labels = ['A', 'B', 'C', 'D', 'E', 'F', 'G', 'H', 'I', 'J']\n",
    "text = \"\\nCLASSIFICATION REPORT\\n\\n              precision\\trecall\\tf1-score\\tsupport\\n\\n\"\n",
    "for i in range(10):\n",
    "    text = text + '           {}\\t{:.2f}\\t{:.2f}\\t{:.2f}\\t\\t{:.1f}\\n'.format(labels[i],precision[i],recall[i],f1_score[i],support[i])\n",
    "text = text + '\\n\\n    accuracy\\t\\t\\t{:.2f}\\t\\t{:.0f}'.format(acc,total_support)\n",
    "text = text + '\\n   micro avg\\t{:.2f}\\t{:.2f}\\t{:.2f}\\t\\t{:.0f}'.format(total_precision,total_recall,micro_f1,total_support)\n",
    "text = text + '\\n   macro avg\\t{:.2f}\\t{:.2f}\\t{:.2f}\\t\\t{:.0f}'.format(macro_avg_precision,macro_avg_recall,macro_f1,total_support)\n",
    "text = text + '\\nweighted avg\\t{:.2f}\\t{:.2f}\\t{:.2f}\\t\\t{:.0f}'.format(wt_avg_pres,wt_avg_recall,wt_avg_f1score,total_support)\n",
    "\n",
    "print(text+'\\n')"
   ]
  },
  {
   "cell_type": "code",
   "execution_count": null,
   "id": "47c43694",
   "metadata": {},
   "outputs": [],
   "source": []
  }
 ],
 "metadata": {
  "kernelspec": {
   "display_name": "Python 3",
   "language": "python",
   "name": "python3"
  },
  "language_info": {
   "codemirror_mode": {
    "name": "ipython",
    "version": 3
   },
   "file_extension": ".py",
   "mimetype": "text/x-python",
   "name": "python",
   "nbconvert_exporter": "python",
   "pygments_lexer": "ipython3",
   "version": "3.7.12"
  }
 },
 "nbformat": 4,
 "nbformat_minor": 5
}
